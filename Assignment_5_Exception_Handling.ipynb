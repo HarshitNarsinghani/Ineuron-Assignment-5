{
  "nbformat": 4,
  "nbformat_minor": 0,
  "metadata": {
    "colab": {
      "name": "Assignment-5 Exception Handling",
      "provenance": []
    },
    "kernelspec": {
      "name": "python3",
      "display_name": "Python 3"
    }
  },
  "cells": [
    {
      "cell_type": "markdown",
      "metadata": {
        "id": "D63LdmkuZk4u"
      },
      "source": [
        "1. Write a function to compute 5/0 and use try/except to catch the exceptions"
      ]
    },
    {
      "cell_type": "code",
      "metadata": {
        "colab": {
          "base_uri": "https://localhost:8080/"
        },
        "id": "tuL6YWqLYcg2",
        "outputId": "3c624b6c-06b3-4327-fde9-9fd036ce9643"
      },
      "source": [
        "def divide():\r\n",
        "    return 5/0\r\n",
        "\r\n",
        "try:\r\n",
        "    divide()\r\n",
        "except ZeroDivisionError as ze:\r\n",
        "    print(\"Why  you are dividing a number by ZERO!!\")\r\n",
        "except:\r\n",
        "    print(\"Any other exception\")"
      ],
      "execution_count": 2,
      "outputs": [
        {
          "output_type": "stream",
          "text": [
            "Why  you are dividing a number by ZERO!!\n"
          ],
          "name": "stdout"
        }
      ]
    },
    {
      "cell_type": "markdown",
      "metadata": {
        "id": "AU-zo5c0ZwHK"
      },
      "source": [
        "2. Implement a Python program to generate all sentences where subject is in  [\"Americans\", \"Indians\"] and verb is in [\"Play\", \"watch\"] and the object is in  [\"Baseball\",\"cricket\"]. \r\n",
        "Hint: Subject,Verb and Object should be declared in the program as shown below. \r\n",
        "subjects=[\"Americans \",\"Indians\"] \r\n",
        "verbs=[\"play\",\"watch\"] \r\n",
        "objects=[\"Baseball\",\"Cricket\"] \r\n",
        "Output should come as below: \r\n",
        "Americans play Baseball. \r\n",
        "Americans play Cricket. \r\n",
        "Americans watch Baseball. \r\n",
        "Americans watch Cricket. \r\n",
        "Indians play Baseball. \r\n",
        "Indians play Cricket. \r\n",
        "Indians watch Baseball. \r\n",
        "Indians watch Cricket. \r\n"
      ]
    },
    {
      "cell_type": "code",
      "metadata": {
        "id": "QxCpGfzKam-D"
      },
      "source": [
        "subjects=[\"Americans \",\"Indians\"] \r\n",
        "verbs=[\"play\",\"watch\"] \r\n",
        "objects=[\"Baseball\",\"Cricket\"] "
      ],
      "execution_count": 3,
      "outputs": []
    },
    {
      "cell_type": "code",
      "metadata": {
        "colab": {
          "base_uri": "https://localhost:8080/"
        },
        "id": "K7UzTYYAagZd",
        "outputId": "e64fd562-b4b0-493e-881f-94567364a5db"
      },
      "source": [
        "for sub in subjects:\r\n",
        "  for ver in verbs:\r\n",
        "    for obj in objects:\r\n",
        "      sentence=sub + \" \" +  ver  +  \" \"  +  obj\r\n",
        "      print(sentence) "
      ],
      "execution_count": 11,
      "outputs": [
        {
          "output_type": "stream",
          "text": [
            "Americans  play Baseball\n",
            "Americans  play Cricket\n",
            "Americans  watch Baseball\n",
            "Americans  watch Cricket\n",
            "Indians play Baseball\n",
            "Indians play Cricket\n",
            "Indians watch Baseball\n",
            "Indians watch Cricket\n"
          ],
          "name": "stdout"
        }
      ]
    }
  ]
}